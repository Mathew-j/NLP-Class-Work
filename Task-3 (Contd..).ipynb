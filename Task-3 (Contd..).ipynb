{
 "cells": [
  {
   "cell_type": "code",
   "execution_count": 11,
   "metadata": {},
   "outputs": [],
   "source": [
    "from sklearn.feature_extraction.text import CountVectorizer\n",
    "from sklearn.feature_extraction.text import TfidfVectorizer"
   ]
  },
  {
   "cell_type": "code",
   "execution_count": 12,
   "metadata": {},
   "outputs": [
    {
     "name": "stdout",
     "output_type": "stream",
     "text": [
      "[[1 1 1 1 1 0 1]]\n"
     ]
    }
   ],
   "source": [
    "Vect=CountVectorizer(binary=True)\n",
    "Corpus=[\"Tessearct is an optical recogonition engine\",\"optical character\"]\n",
    "Vect.fit(Corpus)\n",
    "print(Vect.transform([\"Tessearct is an optical character recognition engine\"]).toarray())"
   ]
  },
  {
   "cell_type": "code",
   "execution_count": 16,
   "metadata": {},
   "outputs": [
    {
     "name": "stdout",
     "output_type": "stream",
     "text": [
      "[[1 1 1 1 1 0 1]]\n"
     ]
    }
   ],
   "source": [
    "Vect=CountVectorizer(binary=False)\n",
    "Corpus=[\"Tessearct is an optical recogonition engine\",\"optical character\"]\n",
    "Vect.fit(Corpus)\n",
    "print(Vect.transform([\"Tessearct is an optical character recognition engine\"]).toarray())"
   ]
  },
  {
   "cell_type": "code",
   "execution_count": 1,
   "metadata": {},
   "outputs": [],
   "source": [
    "import pandas as pd\n",
    "import numpy as np"
   ]
  },
  {
   "cell_type": "code",
   "execution_count": 2,
   "metadata": {},
   "outputs": [],
   "source": [
    "from sklearn.metrics.pairwise import cosine_similarity"
   ]
  },
  {
   "cell_type": "code",
   "execution_count": 13,
   "metadata": {},
   "outputs": [
    {
     "data": {
      "text/plain": [
       "array([[1, 0, 0, 0, 0, 0, 0]], dtype=int64)"
      ]
     },
     "execution_count": 13,
     "metadata": {},
     "output_type": "execute_result"
    }
   ],
   "source": [
    "similarity=cosine_similarity(Vect.transform([\"\"\"Summer is a charming flirt. Easy going and casual. Summer doesnt huff and puff to win our affection. It has us at \"Hello\". Winter broods like the tortured protagonist of big fat russian novel. It is daunting and dramatic, burning with a slow intensity.The seasons reputation precedes itself, and often, not in a good way. It has a way of whittling down everything to its bare bones. Even relationships not attuned to its ebbs and flows can fray. At a dinner conversation I once attended, I listened in bemusement as a recent divorcee, made the case that it was the Scandinavian frost that had cooled his exwifes ardour. How original\"\"\"]).toarray())\n",
    "Vect.transform([\"\"\"\"One of the finer books i read this year was John Kaag's Hiking With Nietzsche, in which Kaag, a professor of philosophy, rekindles his passion for the German thinker while tracing picturesque hiking trails in the mountains of Switzerland. It's a near-precise rendering of the travelogue as a self-help book. A young Kaag was an avowed Nietzsche acolyte but given the ravages of responsibilities and adulthood, the writer put his affinity to test by undertaking physically enduring hikes through the Alps, revisiting haunts that the philosopher escaped to, in search of solitude and salve. The journey's demands, coupled with his own innre turmoil, are catnip for anybody feeling at cross purposes with their own life.\"\"\"]).toarray()\n"
   ]
  },
  {
   "cell_type": "code",
   "execution_count": 14,
   "metadata": {},
   "outputs": [
    {
     "name": "stdout",
     "output_type": "stream",
     "text": [
      "[[1.]]\n"
     ]
    }
   ],
   "source": [
    "print(similarity)"
   ]
  },
  {
   "cell_type": "code",
   "execution_count": 16,
   "metadata": {},
   "outputs": [],
   "source": [
    "str1=\"\"\"\"Summer is a charming flirt. Easy going and casual. Summer doesnt huff and puff to win our affection. It has us at \"Hello\". Winter broods like the tortured protagonist of big fat russian novel. It is daunting and dramatic, burning with a slow intensity.The seasons reputation precedes itself, and often, not in a good way. It has a way of whittling down everything to its bare bones. Even relationships not attuned to its ebbs and flows can fray. At a dinner conversation I once attended, I listened in bemusement as a recent divorcee, made the case that it was the Scandinavian frost that had cooled his exwifes ardour. How original\"\"\"\n",
    "str2=\"One of the finer books i read this year was John Kaag's Hiking With Nietzsche, in which Kaag, a professor of philosophy, rekindles his passion for the German thinker while tracing picturesque hiking trails in the mountains of Switzerland. It's a near-precise rendering of the travelogue as a self-help book. A young Kaag was an avowed Nietzsche acolyte but given the ravages of responsibilities and adulthood, the writer put his affinity to test by undertaking physically enduring hikes through the Alps, revisiting haunts that the philosopher escaped to, in search of solitude and salve. The journey's demands, coupled with his own innre turmoil, are catnip for anybody feeling at cross purposes with their own life.\"\n"
   ]
  },
  {
   "cell_type": "code",
   "execution_count": 17,
   "metadata": {},
   "outputs": [
    {
     "name": "stdout",
     "output_type": "stream",
     "text": [
      "[[0.4261596  0.4261596  0.4261596  0.4261596  0.30321606 0.\n",
      "  0.4261596 ]]\n"
     ]
    }
   ],
   "source": [
    "Vect=TfidfVectorizer(binary=True)\n",
    "Corpus=[\"Tessearct is an optical recogonition engine\",\"optical character\"]\n",
    "Vect.fit(Corpus)\n",
    "print(Vect.transform([\"Tessearct is an optical character recognition engine\"]).toarray())"
   ]
  },
  {
   "cell_type": "code",
   "execution_count": 18,
   "metadata": {},
   "outputs": [],
   "source": [
    "Vect=TfidfVectorizer(binary=True)\n",
    "Corpus=[str1,str2]\n",
    "Vect.fit(Corpus)\n",
    "vecstr1=Vect.transform([str1]).toarray()\n",
    "vecstr2=Vect.transform([str2]).toarray()"
   ]
  },
  {
   "cell_type": "code",
   "execution_count": 19,
   "metadata": {},
   "outputs": [],
   "source": [
    "sim=cosine_similarity(vecstr1,vecstr2)"
   ]
  },
  {
   "cell_type": "code",
   "execution_count": 20,
   "metadata": {},
   "outputs": [
    {
     "data": {
      "text/plain": [
       "array([[0.07934834]])"
      ]
     },
     "execution_count": 20,
     "metadata": {},
     "output_type": "execute_result"
    }
   ],
   "source": [
    "sim"
   ]
  },
  {
   "cell_type": "code",
   "execution_count": 21,
   "metadata": {},
   "outputs": [
    {
     "name": "stdout",
     "output_type": "stream",
     "text": [
      "Cosine similarity between text 1 and text 2 [[0.07934834]]\n"
     ]
    }
   ],
   "source": [
    "print('Cosine similarity between text 1 and text 2',cosine_similarity(vecstr1,vecstr2))"
   ]
  },
  {
   "cell_type": "code",
   "execution_count": null,
   "metadata": {},
   "outputs": [],
   "source": []
  }
 ],
 "metadata": {
  "kernelspec": {
   "display_name": "Python 3",
   "language": "python",
   "name": "python3"
  },
  "language_info": {
   "codemirror_mode": {
    "name": "ipython",
    "version": 3
   },
   "file_extension": ".py",
   "mimetype": "text/x-python",
   "name": "python",
   "nbconvert_exporter": "python",
   "pygments_lexer": "ipython3",
   "version": "3.7.0"
  }
 },
 "nbformat": 4,
 "nbformat_minor": 2
}
